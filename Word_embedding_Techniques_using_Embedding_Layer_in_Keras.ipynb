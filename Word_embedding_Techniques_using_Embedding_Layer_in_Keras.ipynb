{
  "cells": [
    {
      "cell_type": "markdown",
      "metadata": {
        "id": "view-in-github",
        "colab_type": "text"
      },
      "source": [
        "<a href=\"https://colab.research.google.com/github/sandeepbansode/Deep-Learning/blob/main/Word_embedding_Techniques_using_Embedding_Layer_in_Keras.ipynb\" target=\"_parent\"><img src=\"https://colab.research.google.com/assets/colab-badge.svg\" alt=\"Open In Colab\"/></a>"
      ]
    },
    {
      "cell_type": "markdown",
      "metadata": {
        "id": "eHNf7J680XF-"
      },
      "source": [
        "### Word Embedding Techniques using Embedding Layer in Keras"
      ]
    },
    {
      "cell_type": "code",
      "execution_count": null,
      "metadata": {
        "id": "PEsK0_yl0XGB"
      },
      "outputs": [],
      "source": [
        "### Libraries USed Tensorflow> 2.0  and keras"
      ]
    },
    {
      "cell_type": "code",
      "execution_count": 5,
      "metadata": {
        "colab": {
          "base_uri": "https://localhost:8080/"
        },
        "id": "pslw1Ya90XGC",
        "outputId": "7717b164-aa54-4241-962e-16c356be3133"
      },
      "outputs": [
        {
          "output_type": "stream",
          "name": "stdout",
          "text": [
            "Looking in indexes: https://pypi.org/simple, https://us-python.pkg.dev/colab-wheels/public/simple/\n",
            "Requirement already satisfied: tensorflow in /usr/local/lib/python3.8/dist-packages (2.9.2)\n",
            "Requirement already satisfied: setuptools in /usr/local/lib/python3.8/dist-packages (from tensorflow) (57.4.0)\n",
            "Requirement already satisfied: numpy>=1.20 in /usr/local/lib/python3.8/dist-packages (from tensorflow) (1.21.6)\n",
            "Requirement already satisfied: typing-extensions>=3.6.6 in /usr/local/lib/python3.8/dist-packages (from tensorflow) (4.4.0)\n",
            "Requirement already satisfied: flatbuffers<2,>=1.12 in /usr/local/lib/python3.8/dist-packages (from tensorflow) (1.12)\n",
            "Requirement already satisfied: tensorboard<2.10,>=2.9 in /usr/local/lib/python3.8/dist-packages (from tensorflow) (2.9.1)\n",
            "Requirement already satisfied: keras-preprocessing>=1.1.1 in /usr/local/lib/python3.8/dist-packages (from tensorflow) (1.1.2)\n",
            "Requirement already satisfied: wrapt>=1.11.0 in /usr/local/lib/python3.8/dist-packages (from tensorflow) (1.14.1)\n",
            "Requirement already satisfied: grpcio<2.0,>=1.24.3 in /usr/local/lib/python3.8/dist-packages (from tensorflow) (1.51.1)\n",
            "Requirement already satisfied: gast<=0.4.0,>=0.2.1 in /usr/local/lib/python3.8/dist-packages (from tensorflow) (0.4.0)\n",
            "Requirement already satisfied: tensorflow-io-gcs-filesystem>=0.23.1 in /usr/local/lib/python3.8/dist-packages (from tensorflow) (0.29.0)\n",
            "Requirement already satisfied: tensorflow-estimator<2.10.0,>=2.9.0rc0 in /usr/local/lib/python3.8/dist-packages (from tensorflow) (2.9.0)\n",
            "Requirement already satisfied: protobuf<3.20,>=3.9.2 in /usr/local/lib/python3.8/dist-packages (from tensorflow) (3.19.6)\n",
            "Requirement already satisfied: google-pasta>=0.1.1 in /usr/local/lib/python3.8/dist-packages (from tensorflow) (0.2.0)\n",
            "Requirement already satisfied: libclang>=13.0.0 in /usr/local/lib/python3.8/dist-packages (from tensorflow) (15.0.6.1)\n",
            "Requirement already satisfied: six>=1.12.0 in /usr/local/lib/python3.8/dist-packages (from tensorflow) (1.15.0)\n",
            "Requirement already satisfied: h5py>=2.9.0 in /usr/local/lib/python3.8/dist-packages (from tensorflow) (3.1.0)\n",
            "Requirement already satisfied: opt-einsum>=2.3.2 in /usr/local/lib/python3.8/dist-packages (from tensorflow) (3.3.0)\n",
            "Requirement already satisfied: astunparse>=1.6.0 in /usr/local/lib/python3.8/dist-packages (from tensorflow) (1.6.3)\n",
            "Requirement already satisfied: keras<2.10.0,>=2.9.0rc0 in /usr/local/lib/python3.8/dist-packages (from tensorflow) (2.9.0)\n",
            "Requirement already satisfied: termcolor>=1.1.0 in /usr/local/lib/python3.8/dist-packages (from tensorflow) (2.2.0)\n",
            "Requirement already satisfied: packaging in /usr/local/lib/python3.8/dist-packages (from tensorflow) (21.3)\n",
            "Requirement already satisfied: absl-py>=1.0.0 in /usr/local/lib/python3.8/dist-packages (from tensorflow) (1.3.0)\n",
            "Requirement already satisfied: wheel<1.0,>=0.23.0 in /usr/local/lib/python3.8/dist-packages (from astunparse>=1.6.0->tensorflow) (0.38.4)\n",
            "Requirement already satisfied: tensorboard-data-server<0.7.0,>=0.6.0 in /usr/local/lib/python3.8/dist-packages (from tensorboard<2.10,>=2.9->tensorflow) (0.6.1)\n",
            "Requirement already satisfied: markdown>=2.6.8 in /usr/local/lib/python3.8/dist-packages (from tensorboard<2.10,>=2.9->tensorflow) (3.4.1)\n",
            "Requirement already satisfied: requests<3,>=2.21.0 in /usr/local/lib/python3.8/dist-packages (from tensorboard<2.10,>=2.9->tensorflow) (2.25.1)\n",
            "Requirement already satisfied: tensorboard-plugin-wit>=1.6.0 in /usr/local/lib/python3.8/dist-packages (from tensorboard<2.10,>=2.9->tensorflow) (1.8.1)\n",
            "Requirement already satisfied: werkzeug>=1.0.1 in /usr/local/lib/python3.8/dist-packages (from tensorboard<2.10,>=2.9->tensorflow) (1.0.1)\n",
            "Requirement already satisfied: google-auth-oauthlib<0.5,>=0.4.1 in /usr/local/lib/python3.8/dist-packages (from tensorboard<2.10,>=2.9->tensorflow) (0.4.6)\n",
            "Requirement already satisfied: google-auth<3,>=1.6.3 in /usr/local/lib/python3.8/dist-packages (from tensorboard<2.10,>=2.9->tensorflow) (2.16.0)\n",
            "Requirement already satisfied: pyparsing!=3.0.5,>=2.0.2 in /usr/local/lib/python3.8/dist-packages (from packaging->tensorflow) (3.0.9)\n",
            "Requirement already satisfied: pyasn1-modules>=0.2.1 in /usr/local/lib/python3.8/dist-packages (from google-auth<3,>=1.6.3->tensorboard<2.10,>=2.9->tensorflow) (0.2.8)\n",
            "Requirement already satisfied: rsa<5,>=3.1.4 in /usr/local/lib/python3.8/dist-packages (from google-auth<3,>=1.6.3->tensorboard<2.10,>=2.9->tensorflow) (4.9)\n",
            "Requirement already satisfied: cachetools<6.0,>=2.0.0 in /usr/local/lib/python3.8/dist-packages (from google-auth<3,>=1.6.3->tensorboard<2.10,>=2.9->tensorflow) (5.2.1)\n",
            "Requirement already satisfied: requests-oauthlib>=0.7.0 in /usr/local/lib/python3.8/dist-packages (from google-auth-oauthlib<0.5,>=0.4.1->tensorboard<2.10,>=2.9->tensorflow) (1.3.1)\n",
            "Requirement already satisfied: importlib-metadata>=4.4 in /usr/local/lib/python3.8/dist-packages (from markdown>=2.6.8->tensorboard<2.10,>=2.9->tensorflow) (6.0.0)\n",
            "Requirement already satisfied: urllib3<1.27,>=1.21.1 in /usr/local/lib/python3.8/dist-packages (from requests<3,>=2.21.0->tensorboard<2.10,>=2.9->tensorflow) (1.24.3)\n",
            "Requirement already satisfied: chardet<5,>=3.0.2 in /usr/local/lib/python3.8/dist-packages (from requests<3,>=2.21.0->tensorboard<2.10,>=2.9->tensorflow) (4.0.0)\n",
            "Requirement already satisfied: certifi>=2017.4.17 in /usr/local/lib/python3.8/dist-packages (from requests<3,>=2.21.0->tensorboard<2.10,>=2.9->tensorflow) (2022.12.7)\n",
            "Requirement already satisfied: idna<3,>=2.5 in /usr/local/lib/python3.8/dist-packages (from requests<3,>=2.21.0->tensorboard<2.10,>=2.9->tensorflow) (2.10)\n",
            "Requirement already satisfied: zipp>=0.5 in /usr/local/lib/python3.8/dist-packages (from importlib-metadata>=4.4->markdown>=2.6.8->tensorboard<2.10,>=2.9->tensorflow) (3.11.0)\n",
            "Requirement already satisfied: pyasn1<0.5.0,>=0.4.6 in /usr/local/lib/python3.8/dist-packages (from pyasn1-modules>=0.2.1->google-auth<3,>=1.6.3->tensorboard<2.10,>=2.9->tensorflow) (0.4.8)\n",
            "Requirement already satisfied: oauthlib>=3.0.0 in /usr/local/lib/python3.8/dist-packages (from requests-oauthlib>=0.7.0->google-auth-oauthlib<0.5,>=0.4.1->tensorboard<2.10,>=2.9->tensorflow) (3.2.2)\n"
          ]
        }
      ],
      "source": [
        "!pip install tensorflow"
      ]
    },
    {
      "cell_type": "code",
      "source": [
        "import tensorflow as tf\n",
        "print(tf.__version__)"
      ],
      "metadata": {
        "colab": {
          "base_uri": "https://localhost:8080/"
        },
        "id": "yZ5hceiMAX7n",
        "outputId": "0c7e2247-9cf0-4d50-f340-59773bf421eb"
      },
      "execution_count": 6,
      "outputs": [
        {
          "output_type": "stream",
          "name": "stdout",
          "text": [
            "2.9.2\n"
          ]
        }
      ]
    },
    {
      "cell_type": "code",
      "execution_count": 7,
      "metadata": {
        "id": "k4nKifUl0XGC"
      },
      "outputs": [],
      "source": [
        "##tensorflow >2.0\n",
        "from tensorflow.keras.preprocessing.text import one_hot"
      ]
    },
    {
      "cell_type": "code",
      "source": [],
      "metadata": {
        "id": "hADTdqZTAUfS"
      },
      "execution_count": null,
      "outputs": []
    },
    {
      "cell_type": "code",
      "execution_count": 8,
      "metadata": {
        "id": "Fu9PuYeu0XGD"
      },
      "outputs": [],
      "source": [
        "### sentences\n",
        "sent=[  'the glass of milk',\n",
        "     'the glass of juice',\n",
        "     'the cup of tea',\n",
        "    'I am a good boy',\n",
        "     'I am a good developer',\n",
        "     'understand the meaning of words',\n",
        "     'your videos are good']"
      ]
    },
    {
      "cell_type": "code",
      "execution_count": 9,
      "metadata": {
        "colab": {
          "base_uri": "https://localhost:8080/"
        },
        "id": "x5d1D3_20XGD",
        "outputId": "96c3f0f3-a10b-4d24-c3ac-72babec1296c"
      },
      "outputs": [
        {
          "output_type": "execute_result",
          "data": {
            "text/plain": [
              "['the glass of milk',\n",
              " 'the glass of juice',\n",
              " 'the cup of tea',\n",
              " 'I am a good boy',\n",
              " 'I am a good developer',\n",
              " 'understand the meaning of words',\n",
              " 'your videos are good']"
            ]
          },
          "metadata": {},
          "execution_count": 9
        }
      ],
      "source": [
        "sent"
      ]
    },
    {
      "cell_type": "code",
      "execution_count": 27,
      "metadata": {
        "id": "tjnXIn3B0XGE"
      },
      "outputs": [],
      "source": [
        "### Vocabulary size\n",
        "voc_size=500"
      ]
    },
    {
      "cell_type": "markdown",
      "metadata": {
        "id": "-vQOdeKk0XGE"
      },
      "source": [
        "#### One Hot Representation"
      ]
    },
    {
      "cell_type": "code",
      "execution_count": 31,
      "metadata": {
        "colab": {
          "base_uri": "https://localhost:8080/"
        },
        "id": "gojfZpAW0XGE",
        "outputId": "acbed2ec-fb2a-476a-88ac-df20dece5998"
      },
      "outputs": [
        {
          "output_type": "stream",
          "name": "stdout",
          "text": [
            "[[391, 125, 161, 166], [391, 125, 161, 490], [391, 76, 161, 85], [453, 173, 373, 188, 388], [453, 173, 373, 188, 129], [470, 391, 149, 161, 108], [371, 165, 387, 188]]\n"
          ]
        }
      ],
      "source": [
        "onehot_repr=[one_hot(words,voc_size ,)for words in sent] \n",
        "print(onehot_repr)"
      ]
    },
    {
      "cell_type": "markdown",
      "metadata": {
        "id": "eYG267x40XGF"
      },
      "source": [
        "### Word Embedding Represntation"
      ]
    },
    {
      "cell_type": "code",
      "execution_count": 34,
      "metadata": {
        "id": "wpqPm0tb0XGF"
      },
      "outputs": [],
      "source": [
        "from tensorflow.keras.layers import Embedding\n",
        "from tensorflow.keras.preprocessing.sequence import pad_sequences\n",
        "from tensorflow.keras.models import Sequential"
      ]
    },
    {
      "cell_type": "code",
      "execution_count": 35,
      "metadata": {
        "id": "Rov3GTM00XGG"
      },
      "outputs": [],
      "source": [
        "import numpy as np"
      ]
    },
    {
      "cell_type": "code",
      "execution_count": 45,
      "metadata": {
        "colab": {
          "base_uri": "https://localhost:8080/"
        },
        "id": "8fQLPw6p0XGG",
        "outputId": "206678d4-667f-4ed7-9e38-b84419ae724f"
      },
      "outputs": [
        {
          "output_type": "stream",
          "name": "stdout",
          "text": [
            "[[391 125 161 166   0   0   0   0]\n",
            " [391 125 161 490   0   0   0   0]\n",
            " [391  76 161  85   0   0   0   0]\n",
            " [453 173 373 188 388   0   0   0]\n",
            " [453 173 373 188 129   0   0   0]\n",
            " [470 391 149 161 108   0   0   0]\n",
            " [371 165 387 188   0   0   0   0]]\n"
          ]
        }
      ],
      "source": [
        "## pre padding\n",
        "sent_length=8\n",
        "embedded_docs=pad_sequences(onehot_repr,padding='post',maxlen=sent_length)\n",
        "print(embedded_docs)"
      ]
    },
    {
      "cell_type": "code",
      "execution_count": 46,
      "metadata": {
        "id": "yjQqBYac0XGG"
      },
      "outputs": [],
      "source": [
        "## 10 feature dimesnions\n",
        "dim=10\n"
      ]
    },
    {
      "cell_type": "code",
      "execution_count": 47,
      "metadata": {
        "id": "ozC-TXrt0XGG"
      },
      "outputs": [],
      "source": [
        "model=Sequential()\n",
        "model.add(Embedding(voc_size,10,input_length=sent_length))\n",
        "model.compile('adam','mse')"
      ]
    },
    {
      "cell_type": "code",
      "execution_count": 48,
      "metadata": {
        "colab": {
          "base_uri": "https://localhost:8080/"
        },
        "id": "tMNvq-Ji0XGH",
        "outputId": "69681691-9865-42b0-f90c-df6016e53fb4"
      },
      "outputs": [
        {
          "output_type": "stream",
          "name": "stdout",
          "text": [
            "Model: \"sequential_2\"\n",
            "_________________________________________________________________\n",
            " Layer (type)                Output Shape              Param #   \n",
            "=================================================================\n",
            " embedding_2 (Embedding)     (None, 8, 10)             5000      \n",
            "                                                                 \n",
            "=================================================================\n",
            "Total params: 5,000\n",
            "Trainable params: 5,000\n",
            "Non-trainable params: 0\n",
            "_________________________________________________________________\n"
          ]
        }
      ],
      "source": [
        " model.summary()"
      ]
    },
    {
      "cell_type": "code",
      "source": [
        "##'the glass of milk',\n",
        "embedded_docs[0]"
      ],
      "metadata": {
        "colab": {
          "base_uri": "https://localhost:8080/"
        },
        "id": "FC4Ess_FEcb3",
        "outputId": "b3cbd610-e3e1-48f1-c50b-1607e40dadda"
      },
      "execution_count": 49,
      "outputs": [
        {
          "output_type": "execute_result",
          "data": {
            "text/plain": [
              "array([391, 125, 161, 166,   0,   0,   0,   0], dtype=int32)"
            ]
          },
          "metadata": {},
          "execution_count": 49
        }
      ]
    },
    {
      "cell_type": "code",
      "source": [
        "model.predict(embedded_docs[0])"
      ],
      "metadata": {
        "colab": {
          "base_uri": "https://localhost:8080/"
        },
        "id": "bRqEvMBYEZUS",
        "outputId": "b0335fd5-0047-47c1-d198-d9c66bb97b06"
      },
      "execution_count": 50,
      "outputs": [
        {
          "output_type": "stream",
          "name": "stderr",
          "text": [
            "WARNING:tensorflow:Model was constructed with shape (None, 8) for input KerasTensor(type_spec=TensorSpec(shape=(None, 8), dtype=tf.float32, name='embedding_2_input'), name='embedding_2_input', description=\"created by layer 'embedding_2_input'\"), but it was called on an input with incompatible shape (None,).\n"
          ]
        },
        {
          "output_type": "stream",
          "name": "stdout",
          "text": [
            "1/1 [==============================] - 0s 161ms/step\n"
          ]
        },
        {
          "output_type": "execute_result",
          "data": {
            "text/plain": [
              "array([[-0.02921522, -0.0114862 , -0.03994988,  0.0464998 , -0.03095111,\n",
              "         0.01166631, -0.0375784 ,  0.03674622,  0.03868601, -0.00275218],\n",
              "       [ 0.04810072, -0.02062342, -0.02148866,  0.02949288, -0.04579417,\n",
              "         0.01984363, -0.03648216,  0.01200781,  0.02858399, -0.01786351],\n",
              "       [-0.04908064,  0.04034758, -0.01224124, -0.00785011, -0.03247588,\n",
              "        -0.03811612,  0.04150193, -0.03578038, -0.00791051,  0.0471972 ],\n",
              "       [ 0.01163181, -0.03968799,  0.0300836 , -0.01248651, -0.04011639,\n",
              "         0.00604508,  0.02058626,  0.03446141, -0.01757531,  0.00618801],\n",
              "       [ 0.04014004,  0.03440449,  0.02418074,  0.00245389, -0.01040164,\n",
              "         0.04912133, -0.04342582,  0.0004244 ,  0.01743868, -0.04845766],\n",
              "       [ 0.04014004,  0.03440449,  0.02418074,  0.00245389, -0.01040164,\n",
              "         0.04912133, -0.04342582,  0.0004244 ,  0.01743868, -0.04845766],\n",
              "       [ 0.04014004,  0.03440449,  0.02418074,  0.00245389, -0.01040164,\n",
              "         0.04912133, -0.04342582,  0.0004244 ,  0.01743868, -0.04845766],\n",
              "       [ 0.04014004,  0.03440449,  0.02418074,  0.00245389, -0.01040164,\n",
              "         0.04912133, -0.04342582,  0.0004244 ,  0.01743868, -0.04845766]],\n",
              "      dtype=float32)"
            ]
          },
          "metadata": {},
          "execution_count": 50
        }
      ]
    },
    {
      "cell_type": "code",
      "execution_count": 51,
      "metadata": {
        "colab": {
          "base_uri": "https://localhost:8080/"
        },
        "id": "kzKP69gx0XGH",
        "outputId": "e45f74bd-bd05-4224-de21-26f6b5496199"
      },
      "outputs": [
        {
          "output_type": "stream",
          "name": "stdout",
          "text": [
            "1/1 [==============================] - 0s 28ms/step\n",
            "[[[-0.02921522 -0.0114862  -0.03994988  0.0464998  -0.03095111\n",
            "    0.01166631 -0.0375784   0.03674622  0.03868601 -0.00275218]\n",
            "  [ 0.04810072 -0.02062342 -0.02148866  0.02949288 -0.04579417\n",
            "    0.01984363 -0.03648216  0.01200781  0.02858399 -0.01786351]\n",
            "  [-0.04908064  0.04034758 -0.01224124 -0.00785011 -0.03247588\n",
            "   -0.03811612  0.04150193 -0.03578038 -0.00791051  0.0471972 ]\n",
            "  [ 0.01163181 -0.03968799  0.0300836  -0.01248651 -0.04011639\n",
            "    0.00604508  0.02058626  0.03446141 -0.01757531  0.00618801]\n",
            "  [ 0.04014004  0.03440449  0.02418074  0.00245389 -0.01040164\n",
            "    0.04912133 -0.04342582  0.0004244   0.01743868 -0.04845766]\n",
            "  [ 0.04014004  0.03440449  0.02418074  0.00245389 -0.01040164\n",
            "    0.04912133 -0.04342582  0.0004244   0.01743868 -0.04845766]\n",
            "  [ 0.04014004  0.03440449  0.02418074  0.00245389 -0.01040164\n",
            "    0.04912133 -0.04342582  0.0004244   0.01743868 -0.04845766]\n",
            "  [ 0.04014004  0.03440449  0.02418074  0.00245389 -0.01040164\n",
            "    0.04912133 -0.04342582  0.0004244   0.01743868 -0.04845766]]\n",
            "\n",
            " [[-0.02921522 -0.0114862  -0.03994988  0.0464998  -0.03095111\n",
            "    0.01166631 -0.0375784   0.03674622  0.03868601 -0.00275218]\n",
            "  [ 0.04810072 -0.02062342 -0.02148866  0.02949288 -0.04579417\n",
            "    0.01984363 -0.03648216  0.01200781  0.02858399 -0.01786351]\n",
            "  [-0.04908064  0.04034758 -0.01224124 -0.00785011 -0.03247588\n",
            "   -0.03811612  0.04150193 -0.03578038 -0.00791051  0.0471972 ]\n",
            "  [-0.01315144  0.04383484  0.04715948 -0.00603863 -0.01027057\n",
            "    0.0462275   0.03194307  0.03287316 -0.01654835 -0.0253772 ]\n",
            "  [ 0.04014004  0.03440449  0.02418074  0.00245389 -0.01040164\n",
            "    0.04912133 -0.04342582  0.0004244   0.01743868 -0.04845766]\n",
            "  [ 0.04014004  0.03440449  0.02418074  0.00245389 -0.01040164\n",
            "    0.04912133 -0.04342582  0.0004244   0.01743868 -0.04845766]\n",
            "  [ 0.04014004  0.03440449  0.02418074  0.00245389 -0.01040164\n",
            "    0.04912133 -0.04342582  0.0004244   0.01743868 -0.04845766]\n",
            "  [ 0.04014004  0.03440449  0.02418074  0.00245389 -0.01040164\n",
            "    0.04912133 -0.04342582  0.0004244   0.01743868 -0.04845766]]\n",
            "\n",
            " [[-0.02921522 -0.0114862  -0.03994988  0.0464998  -0.03095111\n",
            "    0.01166631 -0.0375784   0.03674622  0.03868601 -0.00275218]\n",
            "  [ 0.00069823  0.03957207  0.03320828  0.01245059  0.01597046\n",
            "    0.01314856 -0.04105654 -0.01951864  0.04882351  0.04355151]\n",
            "  [-0.04908064  0.04034758 -0.01224124 -0.00785011 -0.03247588\n",
            "   -0.03811612  0.04150193 -0.03578038 -0.00791051  0.0471972 ]\n",
            "  [-0.02476567  0.01866693 -0.00203682  0.01508332 -0.00590172\n",
            "    0.01167407  0.02027298 -0.03879806  0.04046847 -0.02997965]\n",
            "  [ 0.04014004  0.03440449  0.02418074  0.00245389 -0.01040164\n",
            "    0.04912133 -0.04342582  0.0004244   0.01743868 -0.04845766]\n",
            "  [ 0.04014004  0.03440449  0.02418074  0.00245389 -0.01040164\n",
            "    0.04912133 -0.04342582  0.0004244   0.01743868 -0.04845766]\n",
            "  [ 0.04014004  0.03440449  0.02418074  0.00245389 -0.01040164\n",
            "    0.04912133 -0.04342582  0.0004244   0.01743868 -0.04845766]\n",
            "  [ 0.04014004  0.03440449  0.02418074  0.00245389 -0.01040164\n",
            "    0.04912133 -0.04342582  0.0004244   0.01743868 -0.04845766]]\n",
            "\n",
            " [[-0.04600071 -0.03235541  0.01416453  0.02650188  0.01291987\n",
            "   -0.03251322 -0.02387327  0.04855371 -0.00809072  0.04231807]\n",
            "  [-0.0295723   0.00367529 -0.04321967  0.03394366 -0.02130851\n",
            "   -0.03470329  0.03798225  0.00280161 -0.04550793 -0.01425451]\n",
            "  [ 0.04632792 -0.03811359 -0.04133125 -0.00596126  0.0455454\n",
            "   -0.02694842 -0.0377228   0.01552472 -0.03989735 -0.00811108]\n",
            "  [-0.02172101 -0.00478507 -0.01861512 -0.00170163 -0.04108971\n",
            "    0.01597202 -0.03557562  0.03607483  0.03461081  0.01526353]\n",
            "  [ 0.03967036 -0.01020039 -0.03812274 -0.02382788 -0.00147796\n",
            "   -0.02943068  0.00925372  0.04966929  0.01752113  0.01627097]\n",
            "  [ 0.04014004  0.03440449  0.02418074  0.00245389 -0.01040164\n",
            "    0.04912133 -0.04342582  0.0004244   0.01743868 -0.04845766]\n",
            "  [ 0.04014004  0.03440449  0.02418074  0.00245389 -0.01040164\n",
            "    0.04912133 -0.04342582  0.0004244   0.01743868 -0.04845766]\n",
            "  [ 0.04014004  0.03440449  0.02418074  0.00245389 -0.01040164\n",
            "    0.04912133 -0.04342582  0.0004244   0.01743868 -0.04845766]]\n",
            "\n",
            " [[-0.04600071 -0.03235541  0.01416453  0.02650188  0.01291987\n",
            "   -0.03251322 -0.02387327  0.04855371 -0.00809072  0.04231807]\n",
            "  [-0.0295723   0.00367529 -0.04321967  0.03394366 -0.02130851\n",
            "   -0.03470329  0.03798225  0.00280161 -0.04550793 -0.01425451]\n",
            "  [ 0.04632792 -0.03811359 -0.04133125 -0.00596126  0.0455454\n",
            "   -0.02694842 -0.0377228   0.01552472 -0.03989735 -0.00811108]\n",
            "  [-0.02172101 -0.00478507 -0.01861512 -0.00170163 -0.04108971\n",
            "    0.01597202 -0.03557562  0.03607483  0.03461081  0.01526353]\n",
            "  [ 0.02685535  0.02106286 -0.03674606 -0.017681    0.04999873\n",
            "   -0.02048268 -0.01063645 -0.04715705 -0.00119704  0.01353825]\n",
            "  [ 0.04014004  0.03440449  0.02418074  0.00245389 -0.01040164\n",
            "    0.04912133 -0.04342582  0.0004244   0.01743868 -0.04845766]\n",
            "  [ 0.04014004  0.03440449  0.02418074  0.00245389 -0.01040164\n",
            "    0.04912133 -0.04342582  0.0004244   0.01743868 -0.04845766]\n",
            "  [ 0.04014004  0.03440449  0.02418074  0.00245389 -0.01040164\n",
            "    0.04912133 -0.04342582  0.0004244   0.01743868 -0.04845766]]\n",
            "\n",
            " [[ 0.00243748 -0.03305922  0.02445636 -0.04674128  0.04535427\n",
            "    0.03135598 -0.021683    0.04922524  0.0267542  -0.04021597]\n",
            "  [-0.02921522 -0.0114862  -0.03994988  0.0464998  -0.03095111\n",
            "    0.01166631 -0.0375784   0.03674622  0.03868601 -0.00275218]\n",
            "  [ 0.03042803 -0.0240667  -0.0097783   0.01119069 -0.02614381\n",
            "    0.04528587 -0.00426198 -0.00920904  0.00433107 -0.01255939]\n",
            "  [-0.04908064  0.04034758 -0.01224124 -0.00785011 -0.03247588\n",
            "   -0.03811612  0.04150193 -0.03578038 -0.00791051  0.0471972 ]\n",
            "  [ 0.01807873  0.0168674  -0.02708871  0.02549186  0.02202484\n",
            "   -0.04372703 -0.00973059 -0.01393389  0.04084799 -0.01783539]\n",
            "  [ 0.04014004  0.03440449  0.02418074  0.00245389 -0.01040164\n",
            "    0.04912133 -0.04342582  0.0004244   0.01743868 -0.04845766]\n",
            "  [ 0.04014004  0.03440449  0.02418074  0.00245389 -0.01040164\n",
            "    0.04912133 -0.04342582  0.0004244   0.01743868 -0.04845766]\n",
            "  [ 0.04014004  0.03440449  0.02418074  0.00245389 -0.01040164\n",
            "    0.04912133 -0.04342582  0.0004244   0.01743868 -0.04845766]]\n",
            "\n",
            " [[-0.0087453  -0.02286935 -0.04864758  0.03237882  0.0178218\n",
            "   -0.00841127  0.01199805 -0.03088791  0.02493079  0.00091391]\n",
            "  [-0.02942492 -0.00782619 -0.0208198   0.03261819 -0.04954368\n",
            "    0.00381171 -0.01425041 -0.02671829 -0.01583875  0.04443978]\n",
            "  [-0.0236117  -0.02776331 -0.00781028 -0.01357468  0.03697175\n",
            "    0.04854513  0.00804209 -0.01563706 -0.03650038 -0.01153765]\n",
            "  [-0.02172101 -0.00478507 -0.01861512 -0.00170163 -0.04108971\n",
            "    0.01597202 -0.03557562  0.03607483  0.03461081  0.01526353]\n",
            "  [ 0.04014004  0.03440449  0.02418074  0.00245389 -0.01040164\n",
            "    0.04912133 -0.04342582  0.0004244   0.01743868 -0.04845766]\n",
            "  [ 0.04014004  0.03440449  0.02418074  0.00245389 -0.01040164\n",
            "    0.04912133 -0.04342582  0.0004244   0.01743868 -0.04845766]\n",
            "  [ 0.04014004  0.03440449  0.02418074  0.00245389 -0.01040164\n",
            "    0.04912133 -0.04342582  0.0004244   0.01743868 -0.04845766]\n",
            "  [ 0.04014004  0.03440449  0.02418074  0.00245389 -0.01040164\n",
            "    0.04912133 -0.04342582  0.0004244   0.01743868 -0.04845766]]]\n"
          ]
        }
      ],
      "source": [
        "print(model.predict(embedded_docs))"
      ]
    },
    {
      "cell_type": "code",
      "execution_count": 52,
      "metadata": {
        "id": "JuUxfk7d0XGH",
        "outputId": "89f81e91-35c3-421b-831d-c671f6f769eb",
        "colab": {
          "base_uri": "https://localhost:8080/"
        }
      },
      "outputs": [
        {
          "output_type": "execute_result",
          "data": {
            "text/plain": [
              "array([391, 125, 161, 166,   0,   0,   0,   0], dtype=int32)"
            ]
          },
          "metadata": {},
          "execution_count": 52
        }
      ],
      "source": [
        "embedded_docs[0]"
      ]
    },
    {
      "cell_type": "code",
      "execution_count": 53,
      "metadata": {
        "id": "6JJ_zD0u0XGH",
        "outputId": "23300fad-acd5-431d-dea5-b3a055344e6d",
        "colab": {
          "base_uri": "https://localhost:8080/"
        }
      },
      "outputs": [
        {
          "output_type": "stream",
          "name": "stdout",
          "text": [
            "1/1 [==============================] - 0s 14ms/step\n",
            "[[-0.02921522 -0.0114862  -0.03994988  0.0464998  -0.03095111  0.01166631\n",
            "  -0.0375784   0.03674622  0.03868601 -0.00275218]\n",
            " [ 0.04810072 -0.02062342 -0.02148866  0.02949288 -0.04579417  0.01984363\n",
            "  -0.03648216  0.01200781  0.02858399 -0.01786351]\n",
            " [-0.04908064  0.04034758 -0.01224124 -0.00785011 -0.03247588 -0.03811612\n",
            "   0.04150193 -0.03578038 -0.00791051  0.0471972 ]\n",
            " [ 0.01163181 -0.03968799  0.0300836  -0.01248651 -0.04011639  0.00604508\n",
            "   0.02058626  0.03446141 -0.01757531  0.00618801]\n",
            " [ 0.04014004  0.03440449  0.02418074  0.00245389 -0.01040164  0.04912133\n",
            "  -0.04342582  0.0004244   0.01743868 -0.04845766]\n",
            " [ 0.04014004  0.03440449  0.02418074  0.00245389 -0.01040164  0.04912133\n",
            "  -0.04342582  0.0004244   0.01743868 -0.04845766]\n",
            " [ 0.04014004  0.03440449  0.02418074  0.00245389 -0.01040164  0.04912133\n",
            "  -0.04342582  0.0004244   0.01743868 -0.04845766]\n",
            " [ 0.04014004  0.03440449  0.02418074  0.00245389 -0.01040164  0.04912133\n",
            "  -0.04342582  0.0004244   0.01743868 -0.04845766]]\n"
          ]
        }
      ],
      "source": [
        "#'the glass of milk'\n",
        "print(model.predict(embedded_docs)[0])"
      ]
    },
    {
      "cell_type": "code",
      "execution_count": 54,
      "metadata": {
        "id": "8OMu3iAz0XGH"
      },
      "outputs": [],
      "source": [
        "### Assignment\n",
        "\n",
        "sent=[\"The world is a better place\",\n",
        "      \"Marvel series is my favourite movie\",\n",
        "      \"I like DC movies\",\n",
        "      \"the cat is eating the food\",\n",
        "      \"Tom and Jerry is my favourite movie\",\n",
        "      \"Python is my favourite programming language\"\n",
        "      ]"
      ]
    },
    {
      "cell_type": "code",
      "source": [],
      "metadata": {
        "id": "5tO05ChOp7YG"
      },
      "execution_count": null,
      "outputs": []
    }
  ],
  "metadata": {
    "kernelspec": {
      "display_name": "Python 3",
      "language": "python",
      "name": "python3"
    },
    "language_info": {
      "codemirror_mode": {
        "name": "ipython",
        "version": 3
      },
      "file_extension": ".py",
      "mimetype": "text/x-python",
      "name": "python",
      "nbconvert_exporter": "python",
      "pygments_lexer": "ipython3",
      "version": "3.7.4"
    },
    "colab": {
      "provenance": [],
      "include_colab_link": true
    },
    "accelerator": "GPU",
    "gpuClass": "standard"
  },
  "nbformat": 4,
  "nbformat_minor": 0
}